{
 "cells": [
  {
   "cell_type": "code",
   "execution_count": 11,
   "metadata": {},
   "outputs": [],
   "source": [
    "import pandas as pd\n",
    "import numpy as np\n",
    "from tqdm import tqdm "
   ]
  },
  {
   "attachments": {},
   "cell_type": "markdown",
   "metadata": {},
   "source": [
    "# Доп функции"
   ]
  },
  {
   "cell_type": "code",
   "execution_count": 610,
   "metadata": {},
   "outputs": [],
   "source": [
    "def binary_search_first_occurrence(arr, x):\n",
    "    left = 0\n",
    "    right = len(arr) - 1\n",
    "    result = -1\n",
    "    while left <= right:\n",
    "        mid = (left + right) // 2\n",
    "        if arr[mid] == x:\n",
    "            result = mid\n",
    "            right = mid - 1\n",
    "            while right >= left and arr[right] == x:\n",
    "                result = right\n",
    "                right -= 1\n",
    "            break\n",
    "        elif arr[mid] < x:\n",
    "            left = mid + 1\n",
    "        else:\n",
    "            right = mid - 1\n",
    "    return result\n",
    "\n",
    "def binary_search_last_occurrence(arr, x):\n",
    "    left = 0\n",
    "    right = len(arr) - 1\n",
    "    result = -1\n",
    "    while left <= right:\n",
    "        mid = (left + right) // 2\n",
    "        if arr[mid] == x:\n",
    "            result = mid\n",
    "            left = mid + 1\n",
    "            while left <= right and arr[left] == x:\n",
    "                result = left\n",
    "                left += 1\n",
    "            break\n",
    "        elif arr[mid] < x:\n",
    "            left = mid + 1\n",
    "        else:\n",
    "            right = mid - 1\n",
    "    return result"
   ]
  },
  {
   "attachments": {},
   "cell_type": "markdown",
   "metadata": {},
   "source": [
    "# Загрузка данных"
   ]
  },
  {
   "cell_type": "code",
   "execution_count": 6,
   "metadata": {},
   "outputs": [],
   "source": [
    "train_ds = pd.read_csv('train_dataset_VK/train.csv')"
   ]
  },
  {
   "cell_type": "code",
   "execution_count": 7,
   "metadata": {},
   "outputs": [],
   "source": [
    "test_ds = pd.read_csv('train_dataset_VK/test.csv')"
   ]
  },
  {
   "cell_type": "code",
   "execution_count": 8,
   "metadata": {},
   "outputs": [],
   "source": [
    "subm_ds = pd.read_csv('train_dataset_VK/submission.csv')"
   ]
  },
  {
   "cell_type": "code",
   "execution_count": 30,
   "metadata": {},
   "outputs": [],
   "source": [
    "# test_ego_ids = test_ds.ego_id.unique()"
   ]
  },
  {
   "cell_type": "code",
   "execution_count": 31,
   "metadata": {},
   "outputs": [],
   "source": [
    "# train_ego_ids = train_ds.ego_id.unique()"
   ]
  },
  {
   "cell_type": "code",
   "execution_count": 9,
   "metadata": {},
   "outputs": [],
   "source": [
    "attr_ds = pd.read_csv('train_dataset_VK/attr.csv')"
   ]
  },
  {
   "cell_type": "code",
   "execution_count": 13,
   "metadata": {},
   "outputs": [
    {
     "data": {
      "text/html": [
       "<div>\n",
       "<style scoped>\n",
       "    .dataframe tbody tr th:only-of-type {\n",
       "        vertical-align: middle;\n",
       "    }\n",
       "\n",
       "    .dataframe tbody tr th {\n",
       "        vertical-align: top;\n",
       "    }\n",
       "\n",
       "    .dataframe thead th {\n",
       "        text-align: right;\n",
       "    }\n",
       "</style>\n",
       "<table border=\"1\" class=\"dataframe\">\n",
       "  <thead>\n",
       "    <tr style=\"text-align: right;\">\n",
       "      <th></th>\n",
       "      <th>ego_id</th>\n",
       "      <th>u</th>\n",
       "      <th>age</th>\n",
       "      <th>city_id</th>\n",
       "      <th>sex</th>\n",
       "      <th>school</th>\n",
       "      <th>university</th>\n",
       "    </tr>\n",
       "  </thead>\n",
       "  <tbody>\n",
       "    <tr>\n",
       "      <th>0</th>\n",
       "      <td>0</td>\n",
       "      <td>227</td>\n",
       "      <td>68</td>\n",
       "      <td>-1</td>\n",
       "      <td>1</td>\n",
       "      <td>778293348</td>\n",
       "      <td>-1</td>\n",
       "    </tr>\n",
       "    <tr>\n",
       "      <th>1</th>\n",
       "      <td>0</td>\n",
       "      <td>45</td>\n",
       "      <td>38</td>\n",
       "      <td>237065842</td>\n",
       "      <td>1</td>\n",
       "      <td>82803468</td>\n",
       "      <td>238500268</td>\n",
       "    </tr>\n",
       "    <tr>\n",
       "      <th>2</th>\n",
       "      <td>0</td>\n",
       "      <td>142</td>\n",
       "      <td>60</td>\n",
       "      <td>237065842</td>\n",
       "      <td>1</td>\n",
       "      <td>196560139</td>\n",
       "      <td>-1</td>\n",
       "    </tr>\n",
       "    <tr>\n",
       "      <th>3</th>\n",
       "      <td>0</td>\n",
       "      <td>280</td>\n",
       "      <td>66</td>\n",
       "      <td>-1</td>\n",
       "      <td>2</td>\n",
       "      <td>963209731</td>\n",
       "      <td>720783270</td>\n",
       "    </tr>\n",
       "    <tr>\n",
       "      <th>4</th>\n",
       "      <td>0</td>\n",
       "      <td>41</td>\n",
       "      <td>18</td>\n",
       "      <td>-1</td>\n",
       "      <td>2</td>\n",
       "      <td>308862409</td>\n",
       "      <td>-1</td>\n",
       "    </tr>\n",
       "    <tr>\n",
       "      <th>5</th>\n",
       "      <td>0</td>\n",
       "      <td>284</td>\n",
       "      <td>30</td>\n",
       "      <td>515825832</td>\n",
       "      <td>2</td>\n",
       "      <td>523273865</td>\n",
       "      <td>219762299</td>\n",
       "    </tr>\n",
       "    <tr>\n",
       "      <th>6</th>\n",
       "      <td>0</td>\n",
       "      <td>39</td>\n",
       "      <td>107</td>\n",
       "      <td>-1</td>\n",
       "      <td>2</td>\n",
       "      <td>-1</td>\n",
       "      <td>-1</td>\n",
       "    </tr>\n",
       "    <tr>\n",
       "      <th>7</th>\n",
       "      <td>0</td>\n",
       "      <td>204</td>\n",
       "      <td>21</td>\n",
       "      <td>298413605</td>\n",
       "      <td>1</td>\n",
       "      <td>-1</td>\n",
       "      <td>70724144</td>\n",
       "    </tr>\n",
       "    <tr>\n",
       "      <th>8</th>\n",
       "      <td>0</td>\n",
       "      <td>224</td>\n",
       "      <td>21</td>\n",
       "      <td>298413605</td>\n",
       "      <td>1</td>\n",
       "      <td>-1</td>\n",
       "      <td>-1</td>\n",
       "    </tr>\n",
       "    <tr>\n",
       "      <th>9</th>\n",
       "      <td>0</td>\n",
       "      <td>138</td>\n",
       "      <td>43</td>\n",
       "      <td>238321946</td>\n",
       "      <td>1</td>\n",
       "      <td>551175147</td>\n",
       "      <td>359213661</td>\n",
       "    </tr>\n",
       "  </tbody>\n",
       "</table>\n",
       "</div>"
      ],
      "text/plain": [
       "   ego_id    u  age    city_id  sex     school  university\n",
       "0       0  227   68         -1    1  778293348          -1\n",
       "1       0   45   38  237065842    1   82803468   238500268\n",
       "2       0  142   60  237065842    1  196560139          -1\n",
       "3       0  280   66         -1    2  963209731   720783270\n",
       "4       0   41   18         -1    2  308862409          -1\n",
       "5       0  284   30  515825832    2  523273865   219762299\n",
       "6       0   39  107         -1    2         -1          -1\n",
       "7       0  204   21  298413605    1         -1    70724144\n",
       "8       0  224   21  298413605    1         -1          -1\n",
       "9       0  138   43  238321946    1  551175147   359213661"
      ]
     },
     "execution_count": 13,
     "metadata": {},
     "output_type": "execute_result"
    }
   ],
   "source": [
    "attr_ds.head(10)"
   ]
  },
  {
   "cell_type": "code",
   "execution_count": 18,
   "metadata": {},
   "outputs": [
    {
     "data": {
      "text/html": [
       "<div>\n",
       "<style scoped>\n",
       "    .dataframe tbody tr th:only-of-type {\n",
       "        vertical-align: middle;\n",
       "    }\n",
       "\n",
       "    .dataframe tbody tr th {\n",
       "        vertical-align: top;\n",
       "    }\n",
       "\n",
       "    .dataframe thead th {\n",
       "        text-align: right;\n",
       "    }\n",
       "</style>\n",
       "<table border=\"1\" class=\"dataframe\">\n",
       "  <thead>\n",
       "    <tr style=\"text-align: right;\">\n",
       "      <th></th>\n",
       "      <th>ego_id</th>\n",
       "      <th>u</th>\n",
       "      <th>v</th>\n",
       "      <th>t</th>\n",
       "      <th>x1</th>\n",
       "      <th>x2</th>\n",
       "      <th>x3</th>\n",
       "    </tr>\n",
       "  </thead>\n",
       "  <tbody>\n",
       "    <tr>\n",
       "      <th>0</th>\n",
       "      <td>8</td>\n",
       "      <td>20</td>\n",
       "      <td>19</td>\n",
       "      <td>185.7</td>\n",
       "      <td>3.839089e-04</td>\n",
       "      <td>0.0</td>\n",
       "      <td>0.0</td>\n",
       "    </tr>\n",
       "    <tr>\n",
       "      <th>1</th>\n",
       "      <td>8</td>\n",
       "      <td>131</td>\n",
       "      <td>125</td>\n",
       "      <td>161.4</td>\n",
       "      <td>4.034464e-01</td>\n",
       "      <td>0.0</td>\n",
       "      <td>0.0</td>\n",
       "    </tr>\n",
       "    <tr>\n",
       "      <th>2</th>\n",
       "      <td>8</td>\n",
       "      <td>73</td>\n",
       "      <td>56</td>\n",
       "      <td>127.0</td>\n",
       "      <td>8.554643e-05</td>\n",
       "      <td>0.0</td>\n",
       "      <td>0.0</td>\n",
       "    </tr>\n",
       "    <tr>\n",
       "      <th>3</th>\n",
       "      <td>8</td>\n",
       "      <td>0</td>\n",
       "      <td>4</td>\n",
       "      <td>594.5</td>\n",
       "      <td>2.886418e-01</td>\n",
       "      <td>0.0</td>\n",
       "      <td>0.0</td>\n",
       "    </tr>\n",
       "    <tr>\n",
       "      <th>4</th>\n",
       "      <td>8</td>\n",
       "      <td>63</td>\n",
       "      <td>73</td>\n",
       "      <td>127.0</td>\n",
       "      <td>4.281692e-07</td>\n",
       "      <td>0.0</td>\n",
       "      <td>0.0</td>\n",
       "    </tr>\n",
       "    <tr>\n",
       "      <th>5</th>\n",
       "      <td>8</td>\n",
       "      <td>144</td>\n",
       "      <td>61</td>\n",
       "      <td>217.9</td>\n",
       "      <td>2.454207e+00</td>\n",
       "      <td>0.0</td>\n",
       "      <td>1.0</td>\n",
       "    </tr>\n",
       "    <tr>\n",
       "      <th>6</th>\n",
       "      <td>8</td>\n",
       "      <td>0</td>\n",
       "      <td>23</td>\n",
       "      <td>441.7</td>\n",
       "      <td>7.052106e-13</td>\n",
       "      <td>0.0</td>\n",
       "      <td>0.0</td>\n",
       "    </tr>\n",
       "    <tr>\n",
       "      <th>7</th>\n",
       "      <td>8</td>\n",
       "      <td>156</td>\n",
       "      <td>125</td>\n",
       "      <td>192.9</td>\n",
       "      <td>8.842460e-11</td>\n",
       "      <td>0.0</td>\n",
       "      <td>0.0</td>\n",
       "    </tr>\n",
       "    <tr>\n",
       "      <th>8</th>\n",
       "      <td>8</td>\n",
       "      <td>59</td>\n",
       "      <td>54</td>\n",
       "      <td>118.2</td>\n",
       "      <td>1.513186e+00</td>\n",
       "      <td>0.0</td>\n",
       "      <td>0.0</td>\n",
       "    </tr>\n",
       "    <tr>\n",
       "      <th>9</th>\n",
       "      <td>8</td>\n",
       "      <td>109</td>\n",
       "      <td>154</td>\n",
       "      <td>NaN</td>\n",
       "      <td>NaN</td>\n",
       "      <td>0.0</td>\n",
       "      <td>1.0</td>\n",
       "    </tr>\n",
       "    <tr>\n",
       "      <th>10</th>\n",
       "      <td>8</td>\n",
       "      <td>51</td>\n",
       "      <td>30</td>\n",
       "      <td>594.5</td>\n",
       "      <td>NaN</td>\n",
       "      <td>0.0</td>\n",
       "      <td>0.0</td>\n",
       "    </tr>\n",
       "    <tr>\n",
       "      <th>11</th>\n",
       "      <td>8</td>\n",
       "      <td>19</td>\n",
       "      <td>20</td>\n",
       "      <td>185.7</td>\n",
       "      <td>3.833543e-04</td>\n",
       "      <td>0.0</td>\n",
       "      <td>0.0</td>\n",
       "    </tr>\n",
       "    <tr>\n",
       "      <th>12</th>\n",
       "      <td>8</td>\n",
       "      <td>72</td>\n",
       "      <td>57</td>\n",
       "      <td>144.9</td>\n",
       "      <td>1.900876e-03</td>\n",
       "      <td>0.0</td>\n",
       "      <td>0.0</td>\n",
       "    </tr>\n",
       "    <tr>\n",
       "      <th>13</th>\n",
       "      <td>8</td>\n",
       "      <td>65</td>\n",
       "      <td>127</td>\n",
       "      <td>8.6</td>\n",
       "      <td>6.255445e-01</td>\n",
       "      <td>0.0</td>\n",
       "      <td>0.0</td>\n",
       "    </tr>\n",
       "    <tr>\n",
       "      <th>14</th>\n",
       "      <td>8</td>\n",
       "      <td>68</td>\n",
       "      <td>71</td>\n",
       "      <td>191.0</td>\n",
       "      <td>3.533352e-14</td>\n",
       "      <td>0.0</td>\n",
       "      <td>0.0</td>\n",
       "    </tr>\n",
       "  </tbody>\n",
       "</table>\n",
       "</div>"
      ],
      "text/plain": [
       "    ego_id    u    v      t            x1   x2   x3\n",
       "0        8   20   19  185.7  3.839089e-04  0.0  0.0\n",
       "1        8  131  125  161.4  4.034464e-01  0.0  0.0\n",
       "2        8   73   56  127.0  8.554643e-05  0.0  0.0\n",
       "3        8    0    4  594.5  2.886418e-01  0.0  0.0\n",
       "4        8   63   73  127.0  4.281692e-07  0.0  0.0\n",
       "5        8  144   61  217.9  2.454207e+00  0.0  1.0\n",
       "6        8    0   23  441.7  7.052106e-13  0.0  0.0\n",
       "7        8  156  125  192.9  8.842460e-11  0.0  0.0\n",
       "8        8   59   54  118.2  1.513186e+00  0.0  0.0\n",
       "9        8  109  154    NaN           NaN  0.0  1.0\n",
       "10       8   51   30  594.5           NaN  0.0  0.0\n",
       "11       8   19   20  185.7  3.833543e-04  0.0  0.0\n",
       "12       8   72   57  144.9  1.900876e-03  0.0  0.0\n",
       "13       8   65  127    8.6  6.255445e-01  0.0  0.0\n",
       "14       8   68   71  191.0  3.533352e-14  0.0  0.0"
      ]
     },
     "execution_count": 18,
     "metadata": {},
     "output_type": "execute_result"
    }
   ],
   "source": [
    "test_ds.head(15)"
   ]
  },
  {
   "cell_type": "code",
   "execution_count": null,
   "metadata": {},
   "outputs": [],
   "source": [
    "test_ds_ego = test_ds['ego_id']\n",
    "\n",
    "test_dif = test_ds_ego.iloc[1:].values - test_ds_ego.iloc[:-1].values\n",
    "(test_dif >= 0).all()"
   ]
  },
  {
   "cell_type": "code",
   "execution_count": 74,
   "metadata": {},
   "outputs": [
    {
     "data": {
      "text/plain": [
       "True"
      ]
     },
     "execution_count": 74,
     "metadata": {},
     "output_type": "execute_result"
    }
   ],
   "source": [
    "train_ds_ego = train_ds['ego_id']\n",
    "\n",
    "train_dif = train_ds_ego.iloc[1:].values - train_ds_ego.iloc[:-1].values\n",
    "(train_dif >= 0).all()"
   ]
  },
  {
   "cell_type": "code",
   "execution_count": 78,
   "metadata": {},
   "outputs": [
    {
     "data": {
      "text/plain": [
       "True"
      ]
     },
     "execution_count": 78,
     "metadata": {},
     "output_type": "execute_result"
    }
   ],
   "source": [
    "attr_ds_ego = attr_ds['ego_id']\n",
    "\n",
    "attr_dif = attr_ds_ego.iloc[1:].values - attr_ds_ego.iloc[:-1].values\n",
    "(attr_dif >= 0).all()"
   ]
  },
  {
   "attachments": {},
   "cell_type": "markdown",
   "metadata": {},
   "source": [
    "# Попытка в catboost"
   ]
  },
  {
   "attachments": {},
   "cell_type": "markdown",
   "metadata": {},
   "source": [
    "## Глобальные фичи эго-графа"
   ]
  },
  {
   "attachments": {},
   "cell_type": "markdown",
   "metadata": {},
   "source": [
    "дополняем train_ds"
   ]
  },
  {
   "cell_type": "code",
   "execution_count": 295,
   "metadata": {},
   "outputs": [],
   "source": [
    "uniq_ego_ids = set(train_ds['ego_id'].unique())\n",
    "uniq_ego_ids.update(test_ds['ego_id'].unique())\n",
    "uniq_ego_ids = sorted(list(uniq_ego_ids))"
   ]
  },
  {
   "attachments": {},
   "cell_type": "markdown",
   "metadata": {},
   "source": [
    "какие общие свойства могут быть у вершин одного эго-графа?\n",
    "1) распределение по полу \n",
    "2) распр по возрасту\n",
    "3) топ городов, школ, универов\n",
    "4) диаметр графа ?\n",
    "5) ...\n",
    "\n",
    "будем хранить всё это в ego_ds"
   ]
  },
  {
   "cell_type": "code",
   "execution_count": 583,
   "metadata": {},
   "outputs": [],
   "source": [
    "# ego_df_cols = ['ego_id', 'age_mean', 'age_std','city_mean', 'city_std', 'sex_mean', 'sex_std', 'sch_mean', 'sch_std', 'univ_mean', 'univ_std']\n",
    "ego_df_cols = ['ego_id', 'age_mean', 'city_mean', 'sex_mean', 'sch_mean', 'univ_mean']"
   ]
  },
  {
   "cell_type": "code",
   "execution_count": 584,
   "metadata": {},
   "outputs": [],
   "source": [
    "ego_df = pd.DataFrame(  np.zeros( (len(uniq_ego_ids), len(ego_df_cols))), columns = ego_df_cols)"
   ]
  },
  {
   "cell_type": "code",
   "execution_count": 585,
   "metadata": {},
   "outputs": [],
   "source": [
    "ego_df['ego_id'] = ego_df['ego_id'].astype('int64')"
   ]
  },
  {
   "attachments": {},
   "cell_type": "markdown",
   "metadata": {},
   "source": [
    "нужно чем-то заполнить -1 в аттрибутах...\n"
   ]
  },
  {
   "cell_type": "code",
   "execution_count": 587,
   "metadata": {},
   "outputs": [],
   "source": [
    "# attr_ds[(0 < attr_ds['sex']) & (attr_ds['sex'] < 100) & (attr_ds['ego_id'] == 12)]['sex'].std()\n",
    "# attr_ds[(0 < attr_ds['university']) & (attr_ds['ego_id'] == 0)]['university'].mode()[0]"
   ]
  },
  {
   "cell_type": "code",
   "execution_count": 589,
   "metadata": {},
   "outputs": [],
   "source": [
    "attr_ds[attr_ds < 0] = None"
   ]
  },
  {
   "cell_type": "code",
   "execution_count": 591,
   "metadata": {},
   "outputs": [],
   "source": [
    "# attr_ds[['ego_id','age','sex','city_id','school','university']].groupby(['ego_id']).mean()"
   ]
  },
  {
   "cell_type": "code",
   "execution_count": 593,
   "metadata": {},
   "outputs": [],
   "source": [
    "ego_df[['age_mean','sex_mean','city_mean','sch_mean','univ_mean']] = attr_ds[['ego_id','age','sex','city_id','school','university']].groupby(['ego_id']).mean().reset_index(drop=True)"
   ]
  },
  {
   "cell_type": "code",
   "execution_count": 364,
   "metadata": {},
   "outputs": [],
   "source": [
    "# ego_df[['age_std','sex_std','city_std','sch_std','univ_std']] = attr_ds[['ego_id','age','sex','city_id','school','university']].groupby(['ego_id']).std().reset_index(drop=True)"
   ]
  },
  {
   "cell_type": "code",
   "execution_count": 595,
   "metadata": {},
   "outputs": [],
   "source": [
    "ego_df['ego_id'] = attr_ds['ego_id'].unique()"
   ]
  },
  {
   "cell_type": "code",
   "execution_count": 145,
   "metadata": {},
   "outputs": [
    {
     "name": "stderr",
     "output_type": "stream",
     "text": [
      "94it [00:49,  1.89it/s]\n"
     ]
    },
    {
     "ename": "KeyboardInterrupt",
     "evalue": "",
     "output_type": "error",
     "traceback": [
      "\u001b[1;31m---------------------------------------------------------------------------\u001b[0m",
      "\u001b[1;31mKeyboardInterrupt\u001b[0m                         Traceback (most recent call last)",
      "Cell \u001b[1;32mIn[145], line 10\u001b[0m\n\u001b[0;32m      7\u001b[0m row[\u001b[39m'\u001b[39m\u001b[39msex_mean\u001b[39m\u001b[39m'\u001b[39m] \u001b[39m=\u001b[39m sex_info\u001b[39m.\u001b[39mmean()\n\u001b[0;32m      8\u001b[0m row[\u001b[39m'\u001b[39m\u001b[39msex_std\u001b[39m\u001b[39m'\u001b[39m] \u001b[39m=\u001b[39m sex_info\u001b[39m.\u001b[39mstd()\n\u001b[1;32m---> 10\u001b[0m row[\u001b[39m'\u001b[39m\u001b[39mcity_mode\u001b[39m\u001b[39m'\u001b[39m] \u001b[39m=\u001b[39m attr_ds[(\u001b[39m0\u001b[39;49m \u001b[39m<\u001b[39;49m attr_ds[\u001b[39m'\u001b[39;49m\u001b[39mcity_id\u001b[39;49m\u001b[39m'\u001b[39;49m]) \u001b[39m&\u001b[39;49m (attr_ds[\u001b[39m'\u001b[39;49m\u001b[39mego_id\u001b[39;49m\u001b[39m'\u001b[39;49m] \u001b[39m==\u001b[39;49m ego_id)][\u001b[39m'\u001b[39m\u001b[39mcity_id\u001b[39m\u001b[39m'\u001b[39m]\u001b[39m.\u001b[39mmode()[\u001b[39m0\u001b[39m]\n\u001b[0;32m     12\u001b[0m row[\u001b[39m'\u001b[39m\u001b[39msch_mode\u001b[39m\u001b[39m'\u001b[39m] \u001b[39m=\u001b[39m attr_ds[(\u001b[39m0\u001b[39m \u001b[39m<\u001b[39m attr_ds[\u001b[39m'\u001b[39m\u001b[39mschool\u001b[39m\u001b[39m'\u001b[39m]) \u001b[39m&\u001b[39m (attr_ds[\u001b[39m'\u001b[39m\u001b[39mego_id\u001b[39m\u001b[39m'\u001b[39m] \u001b[39m==\u001b[39m ego_id)][\u001b[39m'\u001b[39m\u001b[39mschool\u001b[39m\u001b[39m'\u001b[39m]\u001b[39m.\u001b[39mmode()[\u001b[39m0\u001b[39m]\n\u001b[0;32m     14\u001b[0m row[\u001b[39m'\u001b[39m\u001b[39muniv_mode\u001b[39m\u001b[39m'\u001b[39m] \u001b[39m=\u001b[39m attr_ds[(\u001b[39m0\u001b[39m \u001b[39m<\u001b[39m attr_ds[\u001b[39m'\u001b[39m\u001b[39muniversity\u001b[39m\u001b[39m'\u001b[39m]) \u001b[39m&\u001b[39m (attr_ds[\u001b[39m'\u001b[39m\u001b[39mego_id\u001b[39m\u001b[39m'\u001b[39m] \u001b[39m==\u001b[39m ego_id)][\u001b[39m'\u001b[39m\u001b[39muniversity\u001b[39m\u001b[39m'\u001b[39m]\u001b[39m.\u001b[39mmode()[\u001b[39m0\u001b[39m]\n",
      "File \u001b[1;32mc:\\Users\\Ravil\\AppData\\Local\\Programs\\Python\\Python39\\lib\\site-packages\\pandas\\core\\ops\\common.py:81\u001b[0m, in \u001b[0;36m_unpack_zerodim_and_defer.<locals>.new_method\u001b[1;34m(self, other)\u001b[0m\n\u001b[0;32m     77\u001b[0m             \u001b[39mreturn\u001b[39;00m \u001b[39mNotImplemented\u001b[39m\n\u001b[0;32m     79\u001b[0m other \u001b[39m=\u001b[39m item_from_zerodim(other)\n\u001b[1;32m---> 81\u001b[0m \u001b[39mreturn\u001b[39;00m method(\u001b[39mself\u001b[39;49m, other)\n",
      "File \u001b[1;32mc:\\Users\\Ravil\\AppData\\Local\\Programs\\Python\\Python39\\lib\\site-packages\\pandas\\core\\arraylike.py:70\u001b[0m, in \u001b[0;36mOpsMixin.__and__\u001b[1;34m(self, other)\u001b[0m\n\u001b[0;32m     68\u001b[0m \u001b[39m@unpack_zerodim_and_defer\u001b[39m(\u001b[39m\"\u001b[39m\u001b[39m__and__\u001b[39m\u001b[39m\"\u001b[39m)\n\u001b[0;32m     69\u001b[0m \u001b[39mdef\u001b[39;00m \u001b[39m__and__\u001b[39m(\u001b[39mself\u001b[39m, other):\n\u001b[1;32m---> 70\u001b[0m     \u001b[39mreturn\u001b[39;00m \u001b[39mself\u001b[39;49m\u001b[39m.\u001b[39;49m_logical_method(other, operator\u001b[39m.\u001b[39;49mand_)\n",
      "File \u001b[1;32mc:\\Users\\Ravil\\AppData\\Local\\Programs\\Python\\Python39\\lib\\site-packages\\pandas\\core\\series.py:6103\u001b[0m, in \u001b[0;36mSeries._logical_method\u001b[1;34m(self, other, op)\u001b[0m\n\u001b[0;32m   6100\u001b[0m lvalues \u001b[39m=\u001b[39m \u001b[39mself\u001b[39m\u001b[39m.\u001b[39m_values\n\u001b[0;32m   6101\u001b[0m rvalues \u001b[39m=\u001b[39m extract_array(other, extract_numpy\u001b[39m=\u001b[39m\u001b[39mTrue\u001b[39;00m, extract_range\u001b[39m=\u001b[39m\u001b[39mTrue\u001b[39;00m)\n\u001b[1;32m-> 6103\u001b[0m res_values \u001b[39m=\u001b[39m ops\u001b[39m.\u001b[39;49mlogical_op(lvalues, rvalues, op)\n\u001b[0;32m   6104\u001b[0m \u001b[39mreturn\u001b[39;00m \u001b[39mself\u001b[39m\u001b[39m.\u001b[39m_construct_result(res_values, name\u001b[39m=\u001b[39mres_name)\n",
      "File \u001b[1;32mc:\\Users\\Ravil\\AppData\\Local\\Programs\\Python\\Python39\\lib\\site-packages\\pandas\\core\\ops\\array_ops.py:403\u001b[0m, in \u001b[0;36mlogical_op\u001b[1;34m(left, right, op)\u001b[0m\n\u001b[0;32m    401\u001b[0m     res_values \u001b[39m=\u001b[39m na_logical_op(lvalues, rvalues, op)\n\u001b[0;32m    402\u001b[0m     \u001b[39m# error: Cannot call function of unknown type\u001b[39;00m\n\u001b[1;32m--> 403\u001b[0m     res_values \u001b[39m=\u001b[39m filler(res_values)  \u001b[39m# type: ignore[operator]\u001b[39;00m\n\u001b[0;32m    405\u001b[0m \u001b[39mreturn\u001b[39;00m res_values\n",
      "File \u001b[1;32mc:\\Users\\Ravil\\AppData\\Local\\Programs\\Python\\Python39\\lib\\site-packages\\pandas\\core\\ops\\array_ops.py:370\u001b[0m, in \u001b[0;36mlogical_op.<locals>.fill_bool\u001b[1;34m(x, left)\u001b[0m\n\u001b[0;32m    367\u001b[0m         x[mask] \u001b[39m=\u001b[39m \u001b[39mFalse\u001b[39;00m\n\u001b[0;32m    369\u001b[0m \u001b[39mif\u001b[39;00m left \u001b[39mis\u001b[39;00m \u001b[39mNone\u001b[39;00m \u001b[39mor\u001b[39;00m is_bool_dtype(left\u001b[39m.\u001b[39mdtype):\n\u001b[1;32m--> 370\u001b[0m     x \u001b[39m=\u001b[39m x\u001b[39m.\u001b[39;49mastype(\u001b[39mbool\u001b[39;49m)\n\u001b[0;32m    371\u001b[0m \u001b[39mreturn\u001b[39;00m x\n",
      "\u001b[1;31mKeyboardInterrupt\u001b[0m: "
     ]
    }
   ],
   "source": [
    "# for ego_id, row in tqdm(train_ego_df.iterrows()):\n",
    "#     age_info = attr_ds[(0 < attr_ds['age']) & (attr_ds['ego_id'] == ego_id)]['age']\n",
    "#     row['age_mean'] = age_info.mean()\n",
    "#     row['age_std'] = age_info.std()\n",
    "\n",
    "#     sex_info = attr_ds[(0 < attr_ds['sex']) & (attr_ds['ego_id'] == ego_id)]['sex']\n",
    "#     row['sex_mean'] = sex_info.mean()\n",
    "#     row['sex_std'] = sex_info.std()\n",
    "\n",
    "#     row['city_mode'] = attr_ds[(0 < attr_ds['city_id']) & (attr_ds['ego_id'] == ego_id)]['city_id'].mode()[0]\n",
    "\n",
    "#     row['sch_mode'] = attr_ds[(0 < attr_ds['school']) & (attr_ds['ego_id'] == ego_id)]['school'].mode()[0]\n",
    "\n",
    "#     row['univ_mode'] = attr_ds[(0 < attr_ds['university']) & (attr_ds['ego_id'] == ego_id)]['university'].mode()[0]"
   ]
  },
  {
   "attachments": {},
   "cell_type": "markdown",
   "metadata": {},
   "source": [
    "## Индивидуальные фичи ребра"
   ]
  },
  {
   "attachments": {},
   "cell_type": "markdown",
   "metadata": {},
   "source": [
    "А здесь задаём заполняем фичи, с уникальными значениями для каждого ребра"
   ]
  },
  {
   "attachments": {},
   "cell_type": "markdown",
   "metadata": {},
   "source": [
    "фичи ребра (u, v)\n",
    "1) аттрибуты вершины u (age,city,sex,sch,univ)  (+5)\n",
    "2) аттрибуты вершины v  (+5)\n",
    "3) средние значения аттрибутов друзей u (age,city,sex,sch,univ)     (+5) \n",
    "4) средние значения аттрибутов друзей v (age,city,sex,sch,univ)     (+5) \n",
    "5) количество друзей u  (+1)\n",
    "6) количество друзей v  (+1)\n",
    "7) число общих друзей   (+1)\n",
    "8) транзитивная интенсивность взаимодействия Tr_x1, Tr_x2, Tr_x3    (+3)\n"
   ]
  },
  {
   "attachments": {},
   "cell_type": "markdown",
   "metadata": {},
   "source": [
    "$Tr\\_x[i](u,v) = среднее ( x[i](u,c) * x[i](v,c) )  \\ по\\ всем\\ общим\\ друзьям\\ с   $\n",
    "\n",
    "Что лучше - сумма или произведение?? Мне кажется что всё-таки произведение, чтобы лучше отражать транзитивность"
   ]
  },
  {
   "attachments": {},
   "cell_type": "markdown",
   "metadata": {},
   "source": [
    "### Эксперименты\n",
    "Экспериментирую с данными, чтобы понять как составлять фичи"
   ]
  },
  {
   "cell_type": "code",
   "execution_count": 614,
   "metadata": {},
   "outputs": [],
   "source": [
    "curr_ego_id = 0\n",
    "curr_idx_train = 0\n",
    "curr_idx_attr = 0\n",
    "gr_matr = np.zeros((300,300,4))\n",
    "attr_curr = np.full((300,5), np.nan)\n",
    "row = train_ds.iloc[curr_idx_attr]"
   ]
  },
  {
   "cell_type": "code",
   "execution_count": 564,
   "metadata": {},
   "outputs": [],
   "source": [
    "while attr_ds.iloc[curr_idx_attr]['ego_id'] == curr_ego_id:\n",
    "    row = attr_ds.iloc[curr_idx_attr]\n",
    "    attr_cur[int(row['u'])] = list(map(lambda x: x if x >= 0 else np.NaN, row.values[2:]))\n",
    "    curr_idx_attr += 1\n"
   ]
  },
  {
   "cell_type": "code",
   "execution_count": 565,
   "metadata": {},
   "outputs": [
    {
     "data": {
      "text/plain": [
       "False"
      ]
     },
     "execution_count": 565,
     "metadata": {},
     "output_type": "execute_result"
    }
   ],
   "source": [
    "train_ds.iloc[2]['t'] >= 0"
   ]
  },
  {
   "cell_type": "code",
   "execution_count": 566,
   "metadata": {},
   "outputs": [],
   "source": [
    "while train_ds.iloc[curr_idx_train]['ego_id'] == curr_ego_id:\n",
    "    row = train_ds.iloc[curr_idx_train]\n",
    "    if row['t'] >= 0:\n",
    "        u = int(row['u'])\n",
    "        v = int(row['v'])\n",
    "        gr_matr[u][v] = list(map(lambda x: x if x >= 0 else np.NaN, row.values[3:]))\n",
    "        gr_matr[v][u] = gr_matr[u][v]\n",
    "    curr_idx_train += 1"
   ]
  },
  {
   "cell_type": "code",
   "execution_count": 567,
   "metadata": {},
   "outputs": [],
   "source": [
    "curr_idx_train_2 = 0"
   ]
  },
  {
   "cell_type": "code",
   "execution_count": 568,
   "metadata": {},
   "outputs": [
    {
     "data": {
      "text/html": [
       "<div>\n",
       "<style scoped>\n",
       "    .dataframe tbody tr th:only-of-type {\n",
       "        vertical-align: middle;\n",
       "    }\n",
       "\n",
       "    .dataframe tbody tr th {\n",
       "        vertical-align: top;\n",
       "    }\n",
       "\n",
       "    .dataframe thead th {\n",
       "        text-align: right;\n",
       "    }\n",
       "</style>\n",
       "<table border=\"1\" class=\"dataframe\">\n",
       "  <thead>\n",
       "    <tr style=\"text-align: right;\">\n",
       "      <th></th>\n",
       "      <th>ego_id</th>\n",
       "      <th>u</th>\n",
       "      <th>v</th>\n",
       "      <th>t</th>\n",
       "      <th>x1</th>\n",
       "      <th>x2</th>\n",
       "      <th>x3</th>\n",
       "    </tr>\n",
       "  </thead>\n",
       "  <tbody>\n",
       "    <tr>\n",
       "      <th>330</th>\n",
       "      <td>0</td>\n",
       "      <td>7</td>\n",
       "      <td>5</td>\n",
       "      <td>594.5</td>\n",
       "      <td>1.781485e+00</td>\n",
       "      <td>0.0</td>\n",
       "      <td>0.0</td>\n",
       "    </tr>\n",
       "    <tr>\n",
       "      <th>417</th>\n",
       "      <td>0</td>\n",
       "      <td>7</td>\n",
       "      <td>6</td>\n",
       "      <td>594.5</td>\n",
       "      <td>1.781925e-01</td>\n",
       "      <td>0.0</td>\n",
       "      <td>0.0</td>\n",
       "    </tr>\n",
       "    <tr>\n",
       "      <th>818</th>\n",
       "      <td>0</td>\n",
       "      <td>7</td>\n",
       "      <td>0</td>\n",
       "      <td>396.5</td>\n",
       "      <td>1.362285e-09</td>\n",
       "      <td>0.0</td>\n",
       "      <td>0.0</td>\n",
       "    </tr>\n",
       "    <tr>\n",
       "      <th>892</th>\n",
       "      <td>0</td>\n",
       "      <td>7</td>\n",
       "      <td>3</td>\n",
       "      <td>594.5</td>\n",
       "      <td>6.362401e-03</td>\n",
       "      <td>0.0</td>\n",
       "      <td>0.0</td>\n",
       "    </tr>\n",
       "  </tbody>\n",
       "</table>\n",
       "</div>"
      ],
      "text/plain": [
       "     ego_id  u  v      t            x1   x2   x3\n",
       "330       0  7  5  594.5  1.781485e+00  0.0  0.0\n",
       "417       0  7  6  594.5  1.781925e-01  0.0  0.0\n",
       "818       0  7  0  396.5  1.362285e-09  0.0  0.0\n",
       "892       0  7  3  594.5  6.362401e-03  0.0  0.0"
      ]
     },
     "execution_count": 568,
     "metadata": {},
     "output_type": "execute_result"
    }
   ],
   "source": [
    "train_ds[(train_ds['ego_id'] == 0) & (train_ds['u'] == 7)]"
   ]
  },
  {
   "cell_type": "code",
   "execution_count": 576,
   "metadata": {},
   "outputs": [
    {
     "data": {
      "text/plain": [
       "False"
      ]
     },
     "execution_count": 576,
     "metadata": {},
     "output_type": "execute_result"
    }
   ],
   "source": [
    "(gr_matr[88,:,0] > 0).any()"
   ]
  },
  {
   "cell_type": "code",
   "execution_count": 569,
   "metadata": {},
   "outputs": [
    {
     "data": {
      "text/plain": [
       "5"
      ]
     },
     "execution_count": 569,
     "metadata": {},
     "output_type": "execute_result"
    }
   ],
   "source": [
    "# кол-во друзей у 7\n",
    "_r = gr_matr[7,:,0] > 0\n",
    "_r = _r.sum()\n",
    "_r"
   ]
  },
  {
   "cell_type": "code",
   "execution_count": 274,
   "metadata": {},
   "outputs": [
    {
     "data": {
      "text/plain": [
       "5"
      ]
     },
     "execution_count": 274,
     "metadata": {},
     "output_type": "execute_result"
    }
   ],
   "source": [
    "(gr_matr[7,:,0] > 0).sum()"
   ]
  },
  {
   "cell_type": "code",
   "execution_count": 275,
   "metadata": {},
   "outputs": [
    {
     "data": {
      "text/plain": [
       "3"
      ]
     },
     "execution_count": 275,
     "metadata": {},
     "output_type": "execute_result"
    }
   ],
   "source": [
    "# кол-во общих друзей у 7 и 6\n",
    "_r = (gr_matr[7,:,0] > 0) & (gr_matr[6,:,0] > 0)\n",
    "_r = _r.sum()\n",
    "_r"
   ]
  },
  {
   "cell_type": "code",
   "execution_count": 276,
   "metadata": {},
   "outputs": [
    {
     "data": {
      "text/plain": [
       "554.9"
      ]
     },
     "execution_count": 276,
     "metadata": {},
     "output_type": "execute_result"
    }
   ],
   "source": [
    "# среднее знач t (индекс 0) по соседям\n",
    "_r = gr_matr[7,:,0][ gr_matr[7,:,0] > 0 ].mean()\n",
    "_r"
   ]
  },
  {
   "cell_type": "code",
   "execution_count": 277,
   "metadata": {},
   "outputs": [
    {
     "data": {
      "text/plain": [
       "554.9"
      ]
     },
     "execution_count": 277,
     "metadata": {},
     "output_type": "execute_result"
    }
   ],
   "source": [
    "# среднее знач t (индекс 0) по соседям\n",
    "_r = gr_matr[7,:,0][ gr_matr[7,:,0] > 0 ].mean()\n",
    "_r"
   ]
  },
  {
   "cell_type": "code",
   "execution_count": 278,
   "metadata": {},
   "outputs": [
    {
     "data": {
      "text/plain": [
       "0.07950748186778463"
      ]
     },
     "execution_count": 278,
     "metadata": {},
     "output_type": "execute_result"
    }
   ],
   "source": [
    "# среднее знач x1 по соседям\n",
    "_r = gr_matr[7,:,1][ gr_matr[7,:,0] > 0 ].mean()\n",
    "_r"
   ]
  },
  {
   "cell_type": "code",
   "execution_count": 279,
   "metadata": {},
   "outputs": [
    {
     "data": {
      "text/plain": [
       "0.0007511784405331213"
      ]
     },
     "execution_count": 279,
     "metadata": {},
     "output_type": "execute_result"
    }
   ],
   "source": [
    "# транзитивная инт между 7 и 6\n",
    "_r = gr_matr[7,:,1]*gr_matr[6,:,1]\n",
    "_r.mean()"
   ]
  },
  {
   "cell_type": "code",
   "execution_count": 280,
   "metadata": {},
   "outputs": [
    {
     "data": {
      "text/plain": [
       "array([0.00075118, 0.        , 0.        ])"
      ]
     },
     "execution_count": 280,
     "metadata": {},
     "output_type": "execute_result"
    }
   ],
   "source": [
    "np.nanmean(gr_matr[7,:,1:4]*gr_matr[6,:,1:4], axis=0)"
   ]
  },
  {
   "cell_type": "code",
   "execution_count": 281,
   "metadata": {},
   "outputs": [
    {
     "data": {
      "text/plain": [
       "array([[4.30000000e+01, 2.37065842e+08, 1.00000000e+00,            nan,\n",
       "                   nan],\n",
       "       [3.50000000e+01,            nan, 1.00000000e+00,            nan,\n",
       "        8.36217893e+08],\n",
       "       [4.00000000e+01,            nan, 2.00000000e+00, 8.29727092e+08,\n",
       "        5.41978296e+08],\n",
       "       [4.90000000e+01, 2.37065842e+08, 1.00000000e+00, 9.29914814e+08,\n",
       "        9.00704564e+08],\n",
       "       [3.00000000e+01, 2.37065842e+08, 1.00000000e+00, 2.05429743e+08,\n",
       "        6.25011670e+07]])"
      ]
     },
     "execution_count": 281,
     "metadata": {},
     "output_type": "execute_result"
    }
   ],
   "source": [
    "attr_cur[:,0:5][ gr_matr[7,:,0] > 0 ]"
   ]
  },
  {
   "attachments": {},
   "cell_type": "markdown",
   "metadata": {},
   "source": [
    "Всё. Хватит экспериментов"
   ]
  },
  {
   "cell_type": "code",
   "execution_count": 282,
   "metadata": {},
   "outputs": [
    {
     "data": {
      "text/plain": [
       "array([3.94000000e+01, 2.37065842e+08, 1.20000000e+00, 6.55023883e+08,\n",
       "       5.85350480e+08])"
      ]
     },
     "execution_count": 282,
     "metadata": {},
     "output_type": "execute_result"
    }
   ],
   "source": [
    "# ср знач возраста и ост\n",
    "np.nanmean(attr_cur[:,0:5][ gr_matr[7,:,0] > 0 ], axis=0)"
   ]
  },
  {
   "attachments": {},
   "cell_type": "markdown",
   "metadata": {},
   "source": [
    "### Формирование индивидуальных фичей"
   ]
  },
  {
   "cell_type": "code",
   "execution_count": 607,
   "metadata": {},
   "outputs": [],
   "source": [
    "add_cols_names = ['u','v']\n",
    "add_cols_names.extend(['u_age', 'u_city', 'u_sex', 'u_sch', 'u_univ'])\n",
    "add_cols_names.extend(['v_age', 'v_city', 'v_sex', 'v_sch', 'v_univ'])\n",
    "add_cols_names.extend(['u_age_n', 'u_city_n', 'u_sex_n', 'u_sch_n', 'u_univ_n'])\n",
    "add_cols_names.extend(['v_age_n', 'v_city_n', 'v_sex_n', 'v_sch_n', 'v_univ_n'])\n",
    "add_cols_names.extend(['u_cnt', 'v_cnt', 'com_cnt'])\n",
    "add_cols_names.extend(['tr_x1', 'tr_x2', 'tr_x3'])\n",
    "add_cols_names.extend(ego_df_cols[1:])\n",
    "add_cols_names.extend(['x1'])"
   ]
  },
  {
   "cell_type": "code",
   "execution_count": 615,
   "metadata": {},
   "outputs": [
    {
     "data": {
      "text/plain": [
       "34"
      ]
     },
     "execution_count": 615,
     "metadata": {},
     "output_type": "execute_result"
    }
   ],
   "source": [
    "len(add_cols_names)"
   ]
  },
  {
   "cell_type": "code",
   "execution_count": 616,
   "metadata": {},
   "outputs": [],
   "source": [
    "train_ego_notuniq = train_ds['ego_id'].values\n",
    "train_ego_uniq = np.unique(train_ego_notuniq)\n",
    "len_train_ego_uniq = len(train_ego_uniq)"
   ]
  },
  {
   "cell_type": "code",
   "execution_count": 672,
   "metadata": {},
   "outputs": [],
   "source": [
    "# На случай, если хотим тренироваться только на части данных\n",
    "actual_len_train = int(0.2 * len_train_ego_uniq)\n",
    "actual_len_train\n",
    "import random\n",
    "random_ego_id_arr = sorted(random.sample(train_ego_uniq.tolist(), actual_len_train))"
   ]
  },
  {
   "cell_type": "code",
   "execution_count": 684,
   "metadata": {},
   "outputs": [],
   "source": [
    "with open('random_ego_id_arr.npy', 'wb') as f:\n",
    "    np.save(f, random_ego_id_arr)"
   ]
  },
  {
   "attachments": {},
   "cell_type": "markdown",
   "metadata": {},
   "source": [
    "А теперь используя все эти штуки БУДЕМ ЗАПОЛНЯТЬ ФИЧИ!\n",
    "\n",
    "НУ ЧЕ НАРОД? ПОГНАЛИ! "
   ]
  },
  {
   "cell_type": "code",
   "execution_count": 679,
   "metadata": {},
   "outputs": [],
   "source": [
    "curr_idx_train = 0\n",
    "curr_idx_attr = 0\n",
    "curr_idx_train_2 = 0\n",
    "curr_idx_ego = 0\n",
    "curr_idx_part = 0\n",
    "\n",
    "curr_ego_id = int(train_ds.iloc[0][ego_id])\n",
    "\n",
    "train_len = train_ds.shape[0]\n",
    "attr_len = attr_ds.shape[0]\n",
    "ego_len = ego_df.shape[0]\n",
    "\n",
    "attr_curr = np.zeros((300,5))\n",
    "gr_matr = np.zeros((300,300,4))\n",
    "\n",
    "attr_ego_notuniq = attr_ds['ego_id'].values\n",
    "ego_ego_notuniq = ego_df['ego_id'].values"
   ]
  },
  {
   "cell_type": "code",
   "execution_count": 680,
   "metadata": {},
   "outputs": [],
   "source": [
    "import os\n",
    "if not os.path.exists('ftrs'):\n",
    "    os.mkdir('ftrs')"
   ]
  },
  {
   "cell_type": "code",
   "execution_count": 681,
   "metadata": {},
   "outputs": [],
   "source": [
    "import warnings"
   ]
  },
  {
   "cell_type": "code",
   "execution_count": 682,
   "metadata": {},
   "outputs": [
    {
     "name": "stderr",
     "output_type": "stream",
     "text": [
      " 14%|█▎        | 1687/12357 [1:01:17<6:27:38,  2.18s/it] \n"
     ]
    },
    {
     "ename": "KeyboardInterrupt",
     "evalue": "",
     "output_type": "error",
     "traceback": [
      "\u001b[1;31m---------------------------------------------------------------------------\u001b[0m",
      "\u001b[1;31mKeyboardInterrupt\u001b[0m                         Traceback (most recent call last)",
      "Cell \u001b[1;32mIn[682], line 26\u001b[0m\n\u001b[0;32m     24\u001b[0m         v \u001b[39m=\u001b[39m \u001b[39mint\u001b[39m(row[\u001b[39m'\u001b[39m\u001b[39mv\u001b[39m\u001b[39m'\u001b[39m])\n\u001b[0;32m     25\u001b[0m         gr_matr[u][v] \u001b[39m=\u001b[39m \u001b[39mlist\u001b[39m(\u001b[39mmap\u001b[39m(\u001b[39mlambda\u001b[39;00m x: x \u001b[39mif\u001b[39;00m x \u001b[39m>\u001b[39m\u001b[39m=\u001b[39m \u001b[39m0\u001b[39m \u001b[39melse\u001b[39;00m np\u001b[39m.\u001b[39mNaN, row\u001b[39m.\u001b[39mvalues[\u001b[39m3\u001b[39m:]))\n\u001b[1;32m---> 26\u001b[0m         gr_matr[v][u] \u001b[39m=\u001b[39m gr_matr[u][v]\n\u001b[0;32m     28\u001b[0m \u001b[39m# в attr есть ego_id из train, поэтому убедиться что рассматриваемыый\u001b[39;00m\n\u001b[0;32m     29\u001b[0m \u001b[39m# ego_id в attr_ds равен ego_id из train_ds\u001b[39;00m\n\u001b[0;32m     30\u001b[0m curr_idx_attr \u001b[39m=\u001b[39m curr_idx_attr \u001b[39m+\u001b[39m binary_search_first_occurrence(attr_ego_notuniq[curr_idx_attr:], curr_ego_id)\n",
      "\u001b[1;31mKeyboardInterrupt\u001b[0m: "
     ]
    }
   ],
   "source": [
    "# pbar = tqdm(total=100)\n",
    "with warnings.catch_warnings():\n",
    "    warnings.simplefilter(\"ignore\", category=RuntimeWarning)\n",
    "    #while curr_idx_train < train_len:\n",
    "    for curr_ego_id in tqdm(random_ego_id_arr):\n",
    "\n",
    "        #curr_ego_id = train_ds.iloc[curr_idx_train]['ego_id']\n",
    "        \n",
    "        attr_curr = np.full((300,5), np.nan)\n",
    "        gr_matr = np.zeros((300,300,4))\n",
    "        \n",
    "        curr_idx_train = curr_idx_train + binary_search_first_occurrence(train_ego_notuniq[curr_idx_train:], curr_ego_id)\n",
    "        curr_idx_train_end = curr_idx_train + binary_search_last_occurrence(train_ego_notuniq[curr_idx_train:], curr_ego_id)\n",
    "        # print(f'{curr_idx_train} and {curr_idx_train_end}')\n",
    "        curr_ftrs_len = curr_idx_train_end - curr_idx_train + 1\n",
    "\n",
    "        train_ds_ftrs = pd.DataFrame(np.zeros((curr_ftrs_len, len(add_cols_names))), columns=add_cols_names)\n",
    "\n",
    "        # проходимся по train\n",
    "        for i in range(curr_ftrs_len):\n",
    "            row = train_ds.iloc[curr_idx_train + i]\n",
    "            if row['t'] >= 0:\n",
    "                u = int(row['u'])\n",
    "                v = int(row['v'])\n",
    "                gr_matr[u][v] = list(map(lambda x: x if x >= 0 else np.NaN, row.values[3:]))\n",
    "                gr_matr[v][u] = gr_matr[u][v]\n",
    "\n",
    "        # в attr есть ego_id из train, поэтому убедиться что рассматриваемыый\n",
    "        # ego_id в attr_ds равен ego_id из train_ds\n",
    "        curr_idx_attr = curr_idx_attr + binary_search_first_occurrence(attr_ego_notuniq[curr_idx_attr:], curr_ego_id)\n",
    "        curr_idx_attr_end = curr_idx_attr + binary_search_last_occurrence(attr_ego_notuniq[curr_idx_attr:], curr_ego_id)\n",
    "\n",
    "        # проходимся по attr (нужно чтобы ego_id был тот же)\n",
    "        while curr_idx_attr <= curr_idx_attr_end:\n",
    "            row = attr_ds.iloc[curr_idx_attr]\n",
    "            attr_cur[int(row['u'])] = list(map(lambda x: x if x >= 0 else np.NaN, row.values[2:]))\n",
    "            curr_idx_attr += 1\n",
    "    \n",
    "        curr_idx_ego = curr_idx_ego + binary_search_first_occurrence(ego_ego_notuniq[curr_idx_ego:], curr_ego_id)\n",
    "        global_ftrs = ego_df.iloc[curr_idx_ego][ego_df_cols[1:]].values\n",
    "\n",
    "        # проходимся по train ещё раз\n",
    "        for i in range(curr_ftrs_len):\n",
    "            row = train_ds.iloc[curr_idx_train + i]\n",
    "            u = int(row['u'])\n",
    "            v = int(row['v'])\n",
    "            ftrs_row = np.zeros(len(add_cols_names))\n",
    "            ftrs_row[0] = u\n",
    "            ftrs_row[1] = u\n",
    "            # фичи u и v\n",
    "            ftrs_row[2:7] = attr_cur[u][0:5]\n",
    "            ftrs_row[7:12] = attr_cur[v][0:5]\n",
    "            \n",
    "            # u\n",
    "            # ср знач возраста и ост среди друзей\n",
    "            # и кол-во друзей\n",
    "            _u = gr_matr[u,:,0] > 0\n",
    "            if _r.any():\n",
    "                ftrs_row[12:17] = np.nanmean(attr_cur[:,0:5][ _u ], axis=0)\n",
    "                ftrs_row[22] = _u.sum()\n",
    "            else:\n",
    "                ftrs_row[12:17] = global_ftrs\n",
    "                ftrs_row[22] = 0\n",
    "            # v\n",
    "            _v = gr_matr[v,:,0] > 0\n",
    "            if _v.any():\n",
    "                ftrs_row[17:22] = np.nanmean(attr_cur[:,0:5][ _v ], axis=0)\n",
    "                ftrs_row[23] = _v.sum()\n",
    "            else:\n",
    "                ftrs_row[17:22] = global_ftrs\n",
    "                ftrs_row[23] = 0\n",
    "            \n",
    "            \n",
    "            # кол-во общих друзей\n",
    "            if (_u & _v).any():\n",
    "                ftrs_row[24] = (_u & _v).sum()\n",
    "            else:\n",
    "                ftrs_row[24] = 0\n",
    "\n",
    "            # транзитивная интенсивность (x1, x2, x3)\n",
    "            ftrs_row[25:28] = np.nanmean(gr_matr[u,:,1:4]*gr_matr[v,:,1:4], axis=0)\n",
    "            # глоб фичи\n",
    "            ftrs_row[28:33] = global_ftrs\n",
    "            # target\n",
    "            ftrs_row[33] = row['x1']\n",
    "\n",
    "            train_ds_ftrs.iloc[i] = ftrs_row\n",
    "            \n",
    "            pbar.update(100/train_len)\n",
    "        \n",
    "        train_ds_ftrs.to_csv(f'ftrs/{int(curr_ego_id)}.csv', index=False)\n",
    "        \n",
    "        curr_idx_train = curr_idx_train_end + 1\n",
    "\n",
    "        # if curr_ego_id > 10:\n",
    "        #     break\n"
   ]
  },
  {
   "cell_type": "code",
   "execution_count": 683,
   "metadata": {},
   "outputs": [],
   "source": [
    "last_ego_from_train = 231928234507"
   ]
  },
  {
   "cell_type": "code",
   "execution_count": null,
   "metadata": {},
   "outputs": [],
   "source": []
  },
  {
   "cell_type": "code",
   "execution_count": null,
   "metadata": {},
   "outputs": [],
   "source": []
  },
  {
   "attachments": {},
   "cell_type": "markdown",
   "metadata": {},
   "source": [
    "## Формируем фичи для теста"
   ]
  },
  {
   "cell_type": "code",
   "execution_count": 686,
   "metadata": {},
   "outputs": [],
   "source": [
    "test_ego_notuniq = test_ds['ego_id'].values\n",
    "test_ego_uniq = np.unique(test_ego_notuniq)\n",
    "len_test_ego_uniq = len(test_ego_uniq)\n"
   ]
  },
  {
   "cell_type": "code",
   "execution_count": null,
   "metadata": {},
   "outputs": [],
   "source": [
    "# # На случай, если хотим тренироваться только на части данных\n",
    "# actual_len_train = int(0.2 * len_train_ego_uniq)\n",
    "# actual_len_train\n",
    "# import random\n",
    "# random_ego_id_arr = sorted(random.sample(train_ego_uniq.tolist(), actual_len_train))\n"
   ]
  },
  {
   "attachments": {},
   "cell_type": "markdown",
   "metadata": {},
   "source": [
    "А теперь используя все эти штуки БУДЕМ ЗАПОЛНЯТЬ ФИЧИ!\n",
    "\n",
    "НУ ЧЕ НАРОД? ПОГНАЛИ! "
   ]
  },
  {
   "cell_type": "code",
   "execution_count": 691,
   "metadata": {},
   "outputs": [
    {
     "name": "stdout",
     "output_type": "stream",
     "text": [
      "20596\n"
     ]
    }
   ],
   "source": [
    "curr_idx_test = 0\n",
    "curr_idx_attr = 0\n",
    "curr_idx_test_2 = 0\n",
    "curr_idx_ego = 0\n",
    "curr_idx_part = 0\n",
    "curr_idx_subm = 0\n",
    "\n",
    "curr_ego_id = int(test_ds.iloc[0][ego_id])\n",
    "\n",
    "subm_len = subm_ds.shape[0]\n",
    "test_len = test_ds.shape[0]\n",
    "attr_len = attr_ds.shape[0]\n",
    "ego_len = ego_df.shape[0]\n",
    "\n",
    "attr_curr = np.zeros((300,5))\n",
    "gr_matr = np.zeros((300,300,4))\n",
    "\n",
    "attr_ego_notuniq = attr_ds['ego_id'].values\n",
    "ego_ego_notuniq = ego_df['ego_id'].values\n",
    "\n",
    "print(len_test_ego_uniq)"
   ]
  },
  {
   "cell_type": "code",
   "execution_count": null,
   "metadata": {},
   "outputs": [],
   "source": [
    "# import os\n",
    "# if not os.path.exists('ftrs_test'):\n",
    "#     os.mkdir('ftrs_test')"
   ]
  },
  {
   "attachments": {},
   "cell_type": "markdown",
   "metadata": {},
   "source": [
    "надо submission смотреть. нужно смотреть пары именно оттуда...\n",
    "\n",
    "ща сделаем"
   ]
  },
  {
   "cell_type": "code",
   "execution_count": 688,
   "metadata": {},
   "outputs": [],
   "source": [
    "subm_ego_notuniq = subm_ds['ego_id'].values\n",
    "subm_ego_uniq = np.unique(subm_ego_notuniq)\n",
    "len_subm_ego_uniq = len(subm_ego_uniq)"
   ]
  },
  {
   "cell_type": "code",
   "execution_count": 689,
   "metadata": {},
   "outputs": [],
   "source": [
    "subm_ds_ftrs = pd.DataFrame(np.zeros((subm_len, len(add_cols_names))), columns=add_cols_names)"
   ]
  },
  {
   "cell_type": "code",
   "execution_count": 692,
   "metadata": {},
   "outputs": [
    {
     "name": "stderr",
     "output_type": "stream",
     "text": [
      " 51%|█████     | 10549/20586 [1:02:17<1:17:30,  2.16it/s]"
     ]
    }
   ],
   "source": [
    "import warnings\n",
    "# pbar = tqdm(total=100)\n",
    "with warnings.catch_warnings():\n",
    "    warnings.simplefilter(\"ignore\", category=RuntimeWarning)\n",
    "    #while curr_idx_train < train_len:\n",
    "    for curr_ego_id in tqdm(subm_ego_uniq):\n",
    "\n",
    "        #curr_ego_id = train_ds.iloc[curr_idx_train]['ego_id']\n",
    "        \n",
    "        attr_curr = np.full((300,5), np.nan)\n",
    "        gr_matr = np.zeros((300,300,4))\n",
    "        \n",
    "        curr_idx_test = curr_idx_test + binary_search_first_occurrence(test_ego_notuniq[curr_idx_test:], curr_ego_id)\n",
    "        curr_idx_test_end = curr_idx_test + binary_search_last_occurrence(test_ego_notuniq[curr_idx_test:], curr_ego_id)\n",
    "        # print(f'{curr_idx_test} and {curr_idx_test_end}')\n",
    "        curr_ftrs_len = curr_idx_test_end - curr_idx_test + 1\n",
    "\n",
    "        test_ds_ftrs = pd.DataFrame(np.zeros((curr_ftrs_len, len(add_cols_names))), columns=add_cols_names)\n",
    "\n",
    "        # проходимся по test\n",
    "        for i in range(curr_ftrs_len):\n",
    "            row = train_ds.iloc[curr_idx_test + i]\n",
    "            if row['t'] >= 0:\n",
    "                u = int(row['u'])\n",
    "                v = int(row['v'])\n",
    "                gr_matr[u][v] = list(map(lambda x: x if x >= 0 else np.NaN, row.values[3:]))\n",
    "                gr_matr[v][u] = gr_matr[u][v]\n",
    "        \n",
    "        curr_idx_attr = curr_idx_attr + binary_search_first_occurrence(attr_ego_notuniq[curr_idx_attr:], curr_ego_id)\n",
    "        curr_idx_attr_end = curr_idx_attr + binary_search_last_occurrence(attr_ego_notuniq[curr_idx_attr:], curr_ego_id)\n",
    "\n",
    "        # проходимся по attr (нужно чтобы ego_id был тот же)\n",
    "        while curr_idx_attr <= curr_idx_attr_end:\n",
    "            row = attr_ds.iloc[curr_idx_attr]\n",
    "            attr_cur[int(row['u'])] = list(map(lambda x: x if x >= 0 else np.NaN, row.values[2:]))\n",
    "            curr_idx_attr += 1\n",
    "    \n",
    "        curr_idx_ego = curr_idx_ego + binary_search_first_occurrence(ego_ego_notuniq[curr_idx_ego:], curr_ego_id)\n",
    "        global_ftrs = ego_df.iloc[curr_idx_ego][ego_df_cols[1:]].values\n",
    "\n",
    "        curr_idx_subm = curr_idx_subm + binary_search_first_occurrence(subm_ego_notuniq[curr_idx_subm:], curr_ego_id)\n",
    "        curr_idx_subm_end = curr_idx_subm + binary_search_last_occurrence(subm_ego_notuniq[curr_idx_subm:], curr_ego_id)\n",
    "        # print(f'{curr_idx_test} and {curr_idx_test_end}')\n",
    "        curr_ftrs_subm_len = curr_idx_subm_end - curr_idx_subm + 1\n",
    "        \n",
    "        # проходимся по subm\n",
    "        for i in range(curr_ftrs_subm_len):\n",
    "            row = subm_ds.iloc[curr_idx_subm + i]\n",
    "            u = int(row['u'])\n",
    "            v = int(row['v'])\n",
    "            ftrs_row = np.zeros(len(add_cols_names))\n",
    "            ftrs_row[0] = u\n",
    "            ftrs_row[1] = u\n",
    "            # фичи u и v\n",
    "            ftrs_row[2:7] = attr_cur[u][0:5]\n",
    "            ftrs_row[7:12] = attr_cur[v][0:5]\n",
    "            \n",
    "            # u\n",
    "            # ср знач возраста и ост среди друзей\n",
    "            # и кол-во друзей\n",
    "            _u = gr_matr[u,:,0] > 0\n",
    "            if _r.any():\n",
    "                ftrs_row[12:17] = np.nanmean(attr_cur[:,0:5][ _u ], axis=0)\n",
    "                ftrs_row[22] = _u.sum()\n",
    "            else:\n",
    "                ftrs_row[12:17] = global_ftrs\n",
    "                ftrs_row[22] = 0\n",
    "            # v\n",
    "            _v = gr_matr[v,:,0] > 0\n",
    "            if _v.any():\n",
    "                ftrs_row[17:22] = np.nanmean(attr_cur[:,0:5][ _v ], axis=0)\n",
    "                ftrs_row[23] = _v.sum()\n",
    "            else:\n",
    "                ftrs_row[17:22] = global_ftrs\n",
    "                ftrs_row[23] = 0\n",
    "            \n",
    "            \n",
    "            # кол-во общих друзей\n",
    "            if (_u & _v).any():\n",
    "                ftrs_row[24] = (_u & _v).sum()\n",
    "            else:\n",
    "                ftrs_row[24] = 0\n",
    "\n",
    "            # транзитивная интенсивность (x1, x2, x3)\n",
    "            ftrs_row[25:28] = np.nanmean(gr_matr[u,:,1:4]*gr_matr[v,:,1:4], axis=0)\n",
    "            # глоб фичи\n",
    "            ftrs_row[28:33] = global_ftrs\n",
    "            # target\n",
    "            ftrs_row[33] = ftrs_row[25]\n",
    "\n",
    "            subm_ds_ftrs.iloc[curr_idx_subm + i] = ftrs_row\n",
    "            \n",
    "            pbar.update(100/len_subm_ego_uniq)\n",
    "        \n",
    "        curr_idx_subm = curr_idx_subm_end + 1\n",
    "\n",
    "        # if curr_ego_id > 10:\n",
    "        #     break\n"
   ]
  },
  {
   "cell_type": "code",
   "execution_count": null,
   "metadata": {},
   "outputs": [],
   "source": [
    "subm_ds_ftrs.to_csv(f'subm_ftrs.csv', index=False)"
   ]
  },
  {
   "cell_type": "code",
   "execution_count": null,
   "metadata": {},
   "outputs": [],
   "source": []
  },
  {
   "attachments": {},
   "cell_type": "markdown",
   "metadata": {},
   "source": [
    "## Предсказываем"
   ]
  },
  {
   "cell_type": "code",
   "execution_count": null,
   "metadata": {},
   "outputs": [],
   "source": []
  },
  {
   "cell_type": "code",
   "execution_count": null,
   "metadata": {},
   "outputs": [],
   "source": [
    "import catboost\n",
    "import pandas as pd\n",
    "import numpy as np\n",
    "from tqdm import tqdm"
   ]
  },
  {
   "cell_type": "code",
   "execution_count": null,
   "metadata": {},
   "outputs": [],
   "source": [
    "import os"
   ]
  },
  {
   "attachments": {},
   "cell_type": "markdown",
   "metadata": {},
   "source": [
    "# доп функ"
   ]
  },
  {
   "cell_type": "code",
   "execution_count": null,
   "metadata": {},
   "outputs": [],
   "source": [
    "def binary_search_first_occurrence(arr, x):\n",
    "    left = 0\n",
    "    right = len(arr) - 1\n",
    "    result = -1\n",
    "    while left <= right:\n",
    "        mid = (left + right) // 2\n",
    "        if arr[mid] == x:\n",
    "            result = mid\n",
    "            right = mid - 1\n",
    "            while right >= left and arr[right] == x:\n",
    "                result = right\n",
    "                right -= 1\n",
    "            break\n",
    "        elif arr[mid] < x:\n",
    "            left = mid + 1\n",
    "        else:\n",
    "            right = mid - 1\n",
    "    return result\n",
    "\n",
    "def binary_search_last_occurrence(arr, x):\n",
    "    left = 0\n",
    "    right = len(arr) - 1\n",
    "    result = -1\n",
    "    while left <= right:\n",
    "        mid = (left + right) // 2\n",
    "        if arr[mid] == x:\n",
    "            result = mid\n",
    "            left = mid + 1\n",
    "            while left <= right and arr[left] == x:\n",
    "                result = left\n",
    "                left += 1\n",
    "            break\n",
    "        elif arr[mid] < x:\n",
    "            left = mid + 1\n",
    "        else:\n",
    "            right = mid - 1\n",
    "    return result"
   ]
  },
  {
   "attachments": {},
   "cell_type": "markdown",
   "metadata": {},
   "source": [
    "# читаем данные"
   ]
  },
  {
   "cell_type": "code",
   "execution_count": null,
   "metadata": {},
   "outputs": [],
   "source": [
    "with open('random_ego_id_arr.npy', 'rb') as f:\n",
    "    random_ego_id_arr = np.load(f)"
   ]
  },
  {
   "cell_type": "code",
   "execution_count": null,
   "metadata": {},
   "outputs": [],
   "source": [
    "random_ego_id_arr = random_ego_id_arr[:1686]"
   ]
  },
  {
   "cell_type": "code",
   "execution_count": null,
   "metadata": {},
   "outputs": [],
   "source": [
    "full_len = 0"
   ]
  },
  {
   "cell_type": "code",
   "execution_count": null,
   "metadata": {},
   "outputs": [
    {
     "name": "stderr",
     "output_type": "stream",
     "text": [
      "100%|██████████| 1686/1686 [00:41<00:00, 40.43it/s]\n"
     ]
    }
   ],
   "source": [
    "for i in tqdm(random_ego_id_arr):\n",
    "    ds = pd.read_csv(f'ftrs/{i}.csv')\n",
    "    full_len += ds.shape[0]"
   ]
  },
  {
   "cell_type": "code",
   "execution_count": null,
   "metadata": {},
   "outputs": [
    {
     "name": "stdout",
     "output_type": "stream",
     "text": [
      "3378910\n"
     ]
    }
   ],
   "source": [
    "print(full_len)"
   ]
  },
  {
   "attachments": {},
   "cell_type": "markdown",
   "metadata": {},
   "source": [
    "3378910"
   ]
  },
  {
   "cell_type": "code",
   "execution_count": null,
   "metadata": {},
   "outputs": [],
   "source": [
    "ego_df_cols = ['ego_id', 'age_mean', 'city_mean', 'sex_mean', 'sch_mean', 'univ_mean']"
   ]
  },
  {
   "cell_type": "code",
   "execution_count": null,
   "metadata": {},
   "outputs": [],
   "source": [
    "add_cols_names = ['u','v']\n",
    "add_cols_names.extend(['u_age', 'u_city', 'u_sex', 'u_sch', 'u_univ'])\n",
    "add_cols_names.extend(['v_age', 'v_city', 'v_sex', 'v_sch', 'v_univ'])\n",
    "add_cols_names.extend(['u_age_n', 'u_city_n', 'u_sex_n', 'u_sch_n', 'u_univ_n'])\n",
    "add_cols_names.extend(['v_age_n', 'v_city_n', 'v_sex_n', 'v_sch_n', 'v_univ_n'])\n",
    "add_cols_names.extend(['u_cnt', 'v_cnt', 'com_cnt'])\n",
    "add_cols_names.extend(['tr_x1', 'tr_x2', 'tr_x3'])\n",
    "add_cols_names.extend(ego_df_cols[1:])\n",
    "add_cols_names.extend(['x1'])"
   ]
  },
  {
   "cell_type": "code",
   "execution_count": null,
   "metadata": {},
   "outputs": [],
   "source": [
    "part_train_ds = pd.DataFrame(np.zeros((full_len, len(add_cols_names))), columns=add_cols_names)"
   ]
  },
  {
   "cell_type": "code",
   "execution_count": null,
   "metadata": {},
   "outputs": [],
   "source": [
    "last_row_idx = 0"
   ]
  },
  {
   "cell_type": "code",
   "execution_count": null,
   "metadata": {},
   "outputs": [
    {
     "name": "stderr",
     "output_type": "stream",
     "text": [
      "100%|██████████| 1686/1686 [01:24<00:00, 20.05it/s]\n"
     ]
    }
   ],
   "source": [
    "for ego_id in tqdm(random_ego_id_arr):\n",
    "    ds = pd.read_csv(f'ftrs/{ego_id}.csv')\n",
    "    part_train_ds.iloc[last_row_idx:last_row_idx+ds.shape[0]] = ds\n",
    "    last_row_idx += ds.shape[0]\n",
    "    "
   ]
  },
  {
   "cell_type": "code",
   "execution_count": null,
   "metadata": {},
   "outputs": [],
   "source": [
    "part_train_ds = part_train_ds.fillna(part_train_ds.mean())"
   ]
  },
  {
   "cell_type": "code",
   "execution_count": null,
   "metadata": {},
   "outputs": [],
   "source": [
    "import catboost as cb\n",
    "import numpy as np\n",
    "import pandas as pd\n",
    "import seaborn as sns\n",
    "from matplotlib import pyplot as plt\n",
    "from sklearn.model_selection import train_test_split\n",
    "from sklearn.metrics import mean_squared_error\n",
    "from sklearn.metrics import r2_score\n",
    "from sklearn.inspection import permutation_importance"
   ]
  },
  {
   "cell_type": "code",
   "execution_count": null,
   "metadata": {},
   "outputs": [],
   "source": [
    "X, y = part_train_ds[add_cols_names[2:-1]], part_train_ds[add_cols_names[-1]]"
   ]
  },
  {
   "cell_type": "code",
   "execution_count": null,
   "metadata": {},
   "outputs": [],
   "source": [
    "X_train, X_test, y_train, y_test = train_test_split(X, y, test_size = 0.2, random_state=42)"
   ]
  },
  {
   "cell_type": "code",
   "execution_count": null,
   "metadata": {},
   "outputs": [],
   "source": [
    "train_dataset = cb.Pool(X_train, y_train) \n",
    "test_dataset = cb.Pool(X_test, y_test)"
   ]
  },
  {
   "cell_type": "code",
   "execution_count": null,
   "metadata": {},
   "outputs": [],
   "source": [
    "model = cb.CatBoostRegressor(loss_function='RMSE', depth=6)"
   ]
  },
  {
   "cell_type": "code",
   "execution_count": null,
   "metadata": {},
   "outputs": [],
   "source": [
    "# grid = {'iterations': [100, 150, 200],\n",
    "#         'learning_rate': [0.03, 0.1],\n",
    "#         'depth': [4, 6, 8],\n",
    "#         'l2_leaf_reg': [0.2, 0.5, 1, 3]}\n",
    "# model.grid_search(grid, train_dataset)"
   ]
  },
  {
   "cell_type": "code",
   "execution_count": null,
   "metadata": {},
   "outputs": [],
   "source": [
    "model.fit(X_train, y_train)"
   ]
  },
  {
   "cell_type": "code",
   "execution_count": null,
   "metadata": {},
   "outputs": [
    {
     "name": "stdout",
     "output_type": "stream",
     "text": [
      "Testing performance\n",
      "RMSE: 1.15\n",
      "R2: 0.25\n"
     ]
    }
   ],
   "source": [
    "pred = model.predict(X_test)\n",
    "rmse = (np.sqrt(mean_squared_error(y_test, pred)))\n",
    "r2 = r2_score(y_test, pred)\n",
    "print('Testing performance')\n",
    "print('RMSE: {:.2f}'.format(rmse))\n",
    "print('R2: {:.2f}'.format(r2))"
   ]
  },
  {
   "cell_type": "code",
   "execution_count": null,
   "metadata": {},
   "outputs": [],
   "source": [
    "subm_ds_ftrs = pd.read_csv(f'subm_ftrs.csv')"
   ]
  },
  {
   "cell_type": "code",
   "execution_count": null,
   "metadata": {},
   "outputs": [],
   "source": [
    "X_subm = subm_ds_ftrs[add_cols_names[2:-1]]"
   ]
  },
  {
   "cell_type": "code",
   "execution_count": null,
   "metadata": {},
   "outputs": [],
   "source": [
    "subm_pred = model.predict(X_subm)"
   ]
  },
  {
   "cell_type": "code",
   "execution_count": null,
   "metadata": {},
   "outputs": [],
   "source": [
    "subm_ds = pd.read_csv('train_dataset_VK/submission.csv')"
   ]
  },
  {
   "cell_type": "code",
   "execution_count": null,
   "metadata": {},
   "outputs": [],
   "source": [
    "subm_ds['x1'] = subm_pred"
   ]
  },
  {
   "cell_type": "code",
   "execution_count": null,
   "metadata": {},
   "outputs": [
    {
     "data": {
      "text/html": [
       "<div>\n",
       "<style scoped>\n",
       "    .dataframe tbody tr th:only-of-type {\n",
       "        vertical-align: middle;\n",
       "    }\n",
       "\n",
       "    .dataframe tbody tr th {\n",
       "        vertical-align: top;\n",
       "    }\n",
       "\n",
       "    .dataframe thead th {\n",
       "        text-align: right;\n",
       "    }\n",
       "</style>\n",
       "<table border=\"1\" class=\"dataframe\">\n",
       "  <thead>\n",
       "    <tr style=\"text-align: right;\">\n",
       "      <th></th>\n",
       "      <th>ego_id</th>\n",
       "      <th>u</th>\n",
       "      <th>v</th>\n",
       "      <th>x1</th>\n",
       "    </tr>\n",
       "  </thead>\n",
       "  <tbody>\n",
       "    <tr>\n",
       "      <th>0</th>\n",
       "      <td>8</td>\n",
       "      <td>0</td>\n",
       "      <td>93</td>\n",
       "      <td>0.0</td>\n",
       "    </tr>\n",
       "    <tr>\n",
       "      <th>1</th>\n",
       "      <td>8</td>\n",
       "      <td>0</td>\n",
       "      <td>143</td>\n",
       "      <td>0.0</td>\n",
       "    </tr>\n",
       "    <tr>\n",
       "      <th>2</th>\n",
       "      <td>8</td>\n",
       "      <td>0</td>\n",
       "      <td>151</td>\n",
       "      <td>0.0</td>\n",
       "    </tr>\n",
       "    <tr>\n",
       "      <th>3</th>\n",
       "      <td>8</td>\n",
       "      <td>1</td>\n",
       "      <td>24</td>\n",
       "      <td>0.0</td>\n",
       "    </tr>\n",
       "    <tr>\n",
       "      <th>4</th>\n",
       "      <td>8</td>\n",
       "      <td>5</td>\n",
       "      <td>4</td>\n",
       "      <td>0.0</td>\n",
       "    </tr>\n",
       "    <tr>\n",
       "      <th>...</th>\n",
       "      <td>...</td>\n",
       "      <td>...</td>\n",
       "      <td>...</td>\n",
       "      <td>...</td>\n",
       "    </tr>\n",
       "    <tr>\n",
       "      <th>810971</th>\n",
       "      <td>1709396984676</td>\n",
       "      <td>73</td>\n",
       "      <td>23</td>\n",
       "      <td>0.0</td>\n",
       "    </tr>\n",
       "    <tr>\n",
       "      <th>810972</th>\n",
       "      <td>1709396984676</td>\n",
       "      <td>74</td>\n",
       "      <td>68</td>\n",
       "      <td>0.0</td>\n",
       "    </tr>\n",
       "    <tr>\n",
       "      <th>810973</th>\n",
       "      <td>1709396984676</td>\n",
       "      <td>77</td>\n",
       "      <td>28</td>\n",
       "      <td>0.0</td>\n",
       "    </tr>\n",
       "    <tr>\n",
       "      <th>810974</th>\n",
       "      <td>1709396984676</td>\n",
       "      <td>79</td>\n",
       "      <td>38</td>\n",
       "      <td>0.0</td>\n",
       "    </tr>\n",
       "    <tr>\n",
       "      <th>810975</th>\n",
       "      <td>1709396984676</td>\n",
       "      <td>81</td>\n",
       "      <td>92</td>\n",
       "      <td>0.0</td>\n",
       "    </tr>\n",
       "  </tbody>\n",
       "</table>\n",
       "<p>810976 rows × 4 columns</p>\n",
       "</div>"
      ],
      "text/plain": [
       "               ego_id   u    v   x1\n",
       "0                   8   0   93  0.0\n",
       "1                   8   0  143  0.0\n",
       "2                   8   0  151  0.0\n",
       "3                   8   1   24  0.0\n",
       "4                   8   5    4  0.0\n",
       "...               ...  ..  ...  ...\n",
       "810971  1709396984676  73   23  0.0\n",
       "810972  1709396984676  74   68  0.0\n",
       "810973  1709396984676  77   28  0.0\n",
       "810974  1709396984676  79   38  0.0\n",
       "810975  1709396984676  81   92  0.0\n",
       "\n",
       "[810976 rows x 4 columns]"
      ]
     },
     "metadata": {},
     "output_type": "display_data"
    }
   ],
   "source": [
    "subm_ds.to_csv(f'subm_answer.csv', index=False)"
   ]
  },
  {
   "cell_type": "code",
   "execution_count": null,
   "metadata": {},
   "outputs": [],
   "source": []
  }
 ],
 "metadata": {
  "kernelspec": {
   "display_name": "Python 3 (ipykernel)",
   "language": "python",
   "name": "python3"
  },
  "language_info": {
   "codemirror_mode": {
    "name": "ipython",
    "version": 3
   },
   "file_extension": ".py",
   "mimetype": "text/x-python",
   "name": "python",
   "nbconvert_exporter": "python",
   "pygments_lexer": "ipython3",
   "version": "3.9.5"
  }
 },
 "nbformat": 4,
 "nbformat_minor": 2
}
